{
  "cells": [
    {
      "cell_type": "markdown",
      "metadata": {
        "id": "view-in-github",
        "colab_type": "text"
      },
      "source": [
        "<a href=\"https://colab.research.google.com/github/gmarchiello/Spotify-All-Out-Analysis_2/blob/main/Retrieve_data_from_API_Analyzing_Music_Trends_Across_Decades_Insights_from_Spotify's_%22All_Out%22_Playlists.ipynb\" target=\"_parent\"><img src=\"https://colab.research.google.com/assets/colab-badge.svg\" alt=\"Open In Colab\"/></a>"
      ]
    },
    {
      "cell_type": "markdown",
      "metadata": {
        "id": "YJPK8TDq_W1Y"
      },
      "source": [
        "# Retrieving Data - Analyzing Music Trends Across Decades: Insights from Spotify's \"All Out\" Playlists\n",
        "\n",
        "The \"All Out\" series of playlists on Spotify, such as \"All Out 80s,\" \"All Out 90s,\" etc., are carefully curated collections that highlight popular and iconic tracks from specific decades.\n",
        "\n",
        "To retrieve data for cleaning and analysis, we will use the Spotify API. We will then save the retrieved data in a JSON file for further processing.\n"
      ]
    },
    {
      "cell_type": "markdown",
      "metadata": {
        "id": "v_uBpXt0y22U"
      },
      "source": [
        "## Install Spotipy\n"
      ]
    },
    {
      "cell_type": "code",
      "execution_count": null,
      "metadata": {
        "colab": {
          "base_uri": "https://localhost:8080/"
        },
        "id": "ivHqpVTHRvmo",
        "outputId": "4cdddb7d-8f9e-4ba2-c355-a1971ab3a0ac"
      },
      "outputs": [
        {
          "output_type": "stream",
          "name": "stdout",
          "text": [
            "Collecting spotipy\n",
            "  Downloading spotipy-2.24.0-py3-none-any.whl.metadata (4.9 kB)\n",
            "Collecting redis>=3.5.3 (from spotipy)\n",
            "  Downloading redis-5.0.8-py3-none-any.whl.metadata (9.2 kB)\n",
            "Requirement already satisfied: requests>=2.25.0 in /usr/local/lib/python3.10/dist-packages (from spotipy) (2.32.3)\n",
            "Requirement already satisfied: urllib3>=1.26.0 in /usr/local/lib/python3.10/dist-packages (from spotipy) (2.0.7)\n",
            "Requirement already satisfied: async-timeout>=4.0.3 in /usr/local/lib/python3.10/dist-packages (from redis>=3.5.3->spotipy) (4.0.3)\n",
            "Requirement already satisfied: charset-normalizer<4,>=2 in /usr/local/lib/python3.10/dist-packages (from requests>=2.25.0->spotipy) (3.3.2)\n",
            "Requirement already satisfied: idna<4,>=2.5 in /usr/local/lib/python3.10/dist-packages (from requests>=2.25.0->spotipy) (3.10)\n",
            "Requirement already satisfied: certifi>=2017.4.17 in /usr/local/lib/python3.10/dist-packages (from requests>=2.25.0->spotipy) (2024.8.30)\n",
            "Downloading spotipy-2.24.0-py3-none-any.whl (30 kB)\n",
            "Downloading redis-5.0.8-py3-none-any.whl (255 kB)\n",
            "\u001b[2K   \u001b[90m━━━━━━━━━━━━━━━━━━━━━━━━━━━━━━━━━━━━━━━━\u001b[0m \u001b[32m255.6/255.6 kB\u001b[0m \u001b[31m11.7 MB/s\u001b[0m eta \u001b[36m0:00:00\u001b[0m\n",
            "\u001b[?25hInstalling collected packages: redis, spotipy\n",
            "Successfully installed redis-5.0.8 spotipy-2.24.0\n"
          ]
        }
      ],
      "source": [
        "# Spotipy is a Python library for accessing the Spotify Web API\n",
        "!pip install spotipy"
      ]
    },
    {
      "cell_type": "markdown",
      "metadata": {
        "id": "XlVFEOWdy642"
      },
      "source": [
        "## Import packages"
      ]
    },
    {
      "cell_type": "code",
      "execution_count": null,
      "metadata": {
        "id": "9Qmc7w7T4mZ1"
      },
      "outputs": [],
      "source": [
        "# Import the json module for working with JSON data\n",
        "import json\n",
        "\n",
        "# Import the spotipy library to interact with the Spotify Web API\n",
        "import spotipy\n",
        "\n",
        "import time\n",
        "\n",
        "# Import SpotifyClientCredentials from spotipy.oauth2 for authentication\n",
        "# This class is used to handle authentication with Spotify's API using client credentials\n",
        "from spotipy.oauth2 import SpotifyClientCredentials"
      ]
    },
    {
      "cell_type": "markdown",
      "metadata": {
        "id": "C-JvmyaTzCML"
      },
      "source": [
        "## Insert API credentials"
      ]
    },
    {
      "cell_type": "code",
      "execution_count": null,
      "metadata": {
        "id": "oksgbL3mK4SQ",
        "colab": {
          "base_uri": "https://localhost:8080/"
        },
        "outputId": "0bcd4e3c-1ca8-4ff9-a5bd-61a8f73f2109"
      },
      "outputs": [
        {
          "name": "stdout",
          "output_type": "stream",
          "text": [
            "Insert your Spotify Client ID: 8ba520b86db94a8cb1aa2b4ecf8606b8\n",
            "Insert your Spotify Client Secter: 59b7dc2bac6b44e09ea4df634c7de806\n"
          ]
        }
      ],
      "source": [
        "# Insert your Spotify API credentials\n",
        "CLIENT_ID = input('Insert your Spotify Client ID: ')\n",
        "CLIENT_SECRET = input('Insert your Spotify Client Secter: ')\n",
        "\n",
        "# Authenticate with Spotify API\n",
        "client_credentials_manager = SpotifyClientCredentials(client_id=CLIENT_ID, client_secret=CLIENT_SECRET)\n",
        "sp = spotipy.Spotify(client_credentials_manager=client_credentials_manager)"
      ]
    },
    {
      "cell_type": "markdown",
      "metadata": {
        "id": "UBuUQMdszGUz"
      },
      "source": [
        "## Select spotify \"All of\" playlist URIs\n",
        "The \"All of ...\" spotify playlist concentrate the most populare songs of a decade."
      ]
    },
    {
      "cell_type": "code",
      "execution_count": null,
      "metadata": {
        "id": "RaaRgmD3LZ_K"
      },
      "outputs": [],
      "source": [
        "#URIs of 'All Out' Playlists for each decade\n",
        "playlists = {\n",
        "    '1950s': 'spotify:playlist:37i9dQZF1DWSV3Tk4GO2fq',\n",
        "    '1960s': 'spotify:playlist:37i9dQZF1DXaKIA8E7WcJj',\n",
        "    '1970s': 'spotify:playlist:37i9dQZF1DWTJ7xPn4vNaz',\n",
        "    '1980s': 'spotify:playlist:37i9dQZF1DX4UtSsGT1Sbe',\n",
        "    '1990s': 'spotify:playlist:37i9dQZF1DXbTxeAdrVG2l',\n",
        "    '2000s': 'spotify:playlist:37i9dQZF1DX4o1oenSJRJd',\n",
        "    '2010s': 'spotify:playlist:37i9dQZF1DX5Ejj0EkURtP',\n",
        "    '2020s': 'spotify:playlist:37i9dQZF1DX2M1RktxUUHG'\n",
        "}"
      ]
    },
    {
      "cell_type": "markdown",
      "metadata": {
        "id": "VDBdBoP6fMvG"
      },
      "source": [
        "## Retrieve Data"
      ]
    },
    {
      "cell_type": "code",
      "execution_count": null,
      "metadata": {
        "id": "gsWzVb0XK7BT",
        "colab": {
          "base_uri": "https://localhost:8080/"
        },
        "outputId": "5baa5324-9f89-4c5b-c6ed-3e0857141530"
      },
      "outputs": [
        {
          "output_type": "stream",
          "name": "stdout",
          "text": [
            "Fetching tracks for the 1950s playlist\n",
            "Fetched 100 tracks initially from spotify:playlist:37i9dQZF1DWSV3Tk4GO2fq\n",
            "Fetched 150 tracks so far from spotify:playlist:37i9dQZF1DWSV3Tk4GO2fq\n",
            "Completed fetching 150 tracks for the 1950s playlist\n",
            "Fetching tracks for the 1960s playlist\n",
            "Fetched 100 tracks initially from spotify:playlist:37i9dQZF1DXaKIA8E7WcJj\n",
            "Fetched 150 tracks so far from spotify:playlist:37i9dQZF1DXaKIA8E7WcJj\n",
            "Completed fetching 150 tracks for the 1960s playlist\n",
            "Fetching tracks for the 1970s playlist\n",
            "Fetched 100 tracks initially from spotify:playlist:37i9dQZF1DWTJ7xPn4vNaz\n",
            "Fetched 150 tracks so far from spotify:playlist:37i9dQZF1DWTJ7xPn4vNaz\n",
            "Completed fetching 150 tracks for the 1970s playlist\n",
            "Fetching tracks for the 1980s playlist\n",
            "Fetched 100 tracks initially from spotify:playlist:37i9dQZF1DX4UtSsGT1Sbe\n",
            "Fetched 150 tracks so far from spotify:playlist:37i9dQZF1DX4UtSsGT1Sbe\n",
            "Completed fetching 150 tracks for the 1980s playlist\n",
            "Fetching tracks for the 1990s playlist\n",
            "Fetched 100 tracks initially from spotify:playlist:37i9dQZF1DXbTxeAdrVG2l\n",
            "Fetched 150 tracks so far from spotify:playlist:37i9dQZF1DXbTxeAdrVG2l\n",
            "Completed fetching 150 tracks for the 1990s playlist\n",
            "Fetching tracks for the 2000s playlist\n",
            "Fetched 100 tracks initially from spotify:playlist:37i9dQZF1DX4o1oenSJRJd\n",
            "Fetched 150 tracks so far from spotify:playlist:37i9dQZF1DX4o1oenSJRJd\n",
            "Completed fetching 150 tracks for the 2000s playlist\n",
            "Fetching tracks for the 2010s playlist\n",
            "Fetched 100 tracks initially from spotify:playlist:37i9dQZF1DX5Ejj0EkURtP\n",
            "Fetched 150 tracks so far from spotify:playlist:37i9dQZF1DX5Ejj0EkURtP\n",
            "Completed fetching 150 tracks for the 2010s playlist\n",
            "Fetching tracks for the 2020s playlist\n",
            "Fetched 100 tracks initially from spotify:playlist:37i9dQZF1DX2M1RktxUUHG\n",
            "Fetched 150 tracks so far from spotify:playlist:37i9dQZF1DX2M1RktxUUHG\n",
            "Completed fetching 150 tracks for the 2020s playlist\n",
            "Fetching audio features for batch 1\n",
            "Fetching audio features for batch 2\n",
            "Fetching audio features for batch 3\n",
            "Fetching audio features for batch 4\n",
            "Fetching audio features for batch 5\n",
            "Fetching audio features for batch 6\n",
            "Fetching audio features for batch 7\n",
            "Fetching audio features for batch 8\n",
            "Fetching audio features for batch 9\n",
            "Fetching audio features for batch 10\n",
            "Fetching audio features for batch 11\n",
            "Fetching audio features for batch 12\n",
            "Total tracks fetched: 1200\n",
            "{'Decade': '1950s', 'Track_ID': '4gphxUgq0JSFv2BCLhNDiE', 'Artist_name': 'Elvis Presley', 'Track_name': 'Jailhouse Rock', 'Popularity': 66, 'Explicit': False, 'Release_year': '1958', 'Genres': ['rock-and-roll', 'rockabilly'], 'danceability': 0.647, 'energy': 0.582, 'key': 10, 'loudness': -9.538, 'mode': 0, 'speechiness': 0.0755, 'acousticness': 0.41, 'instrumentalness': 1.93e-06, 'liveness': 0.0715, 'valence': 0.915, 'tempo': 167.396, 'type': 'audio_features', 'id': '4gphxUgq0JSFv2BCLhNDiE', 'uri': 'spotify:track:4gphxUgq0JSFv2BCLhNDiE', 'track_href': 'https://api.spotify.com/v1/tracks/4gphxUgq0JSFv2BCLhNDiE', 'analysis_url': 'https://api.spotify.com/v1/audio-analysis/4gphxUgq0JSFv2BCLhNDiE', 'duration_ms': 146480, 'time_signature': 4}\n",
            "{'Decade': '1950s', 'Track_ID': '4fHDlIntTsRGSyTg5UYZYC', 'Artist_name': 'Harry Belafonte', 'Track_name': 'Banana Boat (Day-O)', 'Popularity': 67, 'Explicit': False, 'Release_year': '1956', 'Genres': ['calypso'], 'danceability': 0.797, 'energy': 0.105, 'key': 1, 'loudness': -16.881, 'mode': 1, 'speechiness': 0.0969, 'acousticness': 0.885, 'instrumentalness': 0.000116, 'liveness': 0.108, 'valence': 0.419, 'tempo': 122.545, 'type': 'audio_features', 'id': '4fHDlIntTsRGSyTg5UYZYC', 'uri': 'spotify:track:4fHDlIntTsRGSyTg5UYZYC', 'track_href': 'https://api.spotify.com/v1/tracks/4fHDlIntTsRGSyTg5UYZYC', 'analysis_url': 'https://api.spotify.com/v1/audio-analysis/4fHDlIntTsRGSyTg5UYZYC', 'duration_ms': 183133, 'time_signature': 4}\n",
            "{'Decade': '1950s', 'Track_ID': '5Oc0vLGWdEWeCqIU8zyELt', 'Artist_name': 'Big Mama Thornton', 'Track_name': 'Hound Dog', 'Popularity': 56, 'Explicit': False, 'Release_year': '1989', 'Genres': ['acoustic blues', 'blues', 'harmonica blues', 'rhythm and blues', 'texas blues', 'traditional blues'], 'danceability': 0.563, 'energy': 0.542, 'key': 9, 'loudness': -10.862, 'mode': 1, 'speechiness': 0.0962, 'acousticness': 0.706, 'instrumentalness': 3.59e-05, 'liveness': 0.355, 'valence': 0.785, 'tempo': 133.285, 'type': 'audio_features', 'id': '5Oc0vLGWdEWeCqIU8zyELt', 'uri': 'spotify:track:5Oc0vLGWdEWeCqIU8zyELt', 'track_href': 'https://api.spotify.com/v1/tracks/5Oc0vLGWdEWeCqIU8zyELt', 'analysis_url': 'https://api.spotify.com/v1/audio-analysis/5Oc0vLGWdEWeCqIU8zyELt', 'duration_ms': 181000, 'time_signature': 4}\n",
            "{'Decade': '1950s', 'Track_ID': '2xar08Fq5xra2KKZs5Bw9j', 'Artist_name': 'Ray Charles', 'Track_name': \"I've Got a Woman\", 'Popularity': 71, 'Explicit': False, 'Release_year': '1957', 'Genres': ['adult standards', 'classic soul', 'jazz blues', 'piano blues', 'soul', 'soul blues', 'vocal jazz'], 'danceability': 0.556, 'energy': 0.61, 'key': 9, 'loudness': -4.729, 'mode': 1, 'speechiness': 0.213, 'acousticness': 0.833, 'instrumentalness': 2.22e-06, 'liveness': 0.258, 'valence': 0.665, 'tempo': 199.373, 'type': 'audio_features', 'id': '2xar08Fq5xra2KKZs5Bw9j', 'uri': 'spotify:track:2xar08Fq5xra2KKZs5Bw9j', 'track_href': 'https://api.spotify.com/v1/tracks/2xar08Fq5xra2KKZs5Bw9j', 'analysis_url': 'https://api.spotify.com/v1/audio-analysis/2xar08Fq5xra2KKZs5Bw9j', 'duration_ms': 171467, 'time_signature': 4}\n",
            "{'Decade': '1950s', 'Track_ID': '2CeqxyOZEyiL6pTDYZ9gPH', 'Artist_name': 'Peggy Lee', 'Track_name': 'Fever', 'Popularity': 55, 'Explicit': False, 'Release_year': '1988', 'Genres': ['adult standards', 'torch song', 'vocal jazz'], 'danceability': 0.742, 'energy': 0.0899, 'key': 9, 'loudness': -19.187, 'mode': 0, 'speechiness': 0.158, 'acousticness': 0.0906, 'instrumentalness': 0, 'liveness': 0.113, 'valence': 0.351, 'tempo': 137.473, 'type': 'audio_features', 'id': '2CeqxyOZEyiL6pTDYZ9gPH', 'uri': 'spotify:track:2CeqxyOZEyiL6pTDYZ9gPH', 'track_href': 'https://api.spotify.com/v1/tracks/2CeqxyOZEyiL6pTDYZ9gPH', 'analysis_url': 'https://api.spotify.com/v1/audio-analysis/2CeqxyOZEyiL6pTDYZ9gPH', 'duration_ms': 201333, 'time_signature': 4}\n",
            "{'Decade': '1950s', 'Track_ID': '7caj6X6NMX3tlhWnu1du6V', 'Artist_name': 'Ritchie Valens', 'Track_name': 'We Belong Together', 'Popularity': 71, 'Explicit': False, 'Release_year': '1959', 'Genres': ['rock-and-roll', 'rockabilly'], 'danceability': 0.684, 'energy': 0.247, 'key': 5, 'loudness': -13.71, 'mode': 1, 'speechiness': 0.0281, 'acousticness': 0.872, 'instrumentalness': 0.000166, 'liveness': 0.113, 'valence': 0.768, 'tempo': 106.522, 'type': 'audio_features', 'id': '7caj6X6NMX3tlhWnu1du6V', 'uri': 'spotify:track:7caj6X6NMX3tlhWnu1du6V', 'track_href': 'https://api.spotify.com/v1/tracks/7caj6X6NMX3tlhWnu1du6V', 'analysis_url': 'https://api.spotify.com/v1/audio-analysis/7caj6X6NMX3tlhWnu1du6V', 'duration_ms': 116627, 'time_signature': 3}\n",
            "{'Decade': '1950s', 'Track_ID': '7eqNATKM78MkWP6aHGXHEV', 'Artist_name': 'Paul Anka', 'Track_name': 'Put Your Head on My Shoulder', 'Popularity': 58, 'Explicit': False, 'Release_year': '1966', 'Genres': ['adult standards', 'canadian pop', 'easy listening', 'rock-and-roll'], 'danceability': 0.549, 'energy': 0.433, 'key': 7, 'loudness': -8.526, 'mode': 1, 'speechiness': 0.0327, 'acousticness': 0.906, 'instrumentalness': 0.0108, 'liveness': 0.0774, 'valence': 0.486, 'tempo': 116.068, 'type': 'audio_features', 'id': '7eqNATKM78MkWP6aHGXHEV', 'uri': 'spotify:track:7eqNATKM78MkWP6aHGXHEV', 'track_href': 'https://api.spotify.com/v1/tracks/7eqNATKM78MkWP6aHGXHEV', 'analysis_url': 'https://api.spotify.com/v1/audio-analysis/7eqNATKM78MkWP6aHGXHEV', 'duration_ms': 155080, 'time_signature': 3}\n",
            "{'Decade': '1950s', 'Track_ID': '648TTtYB0bH0P8Hfy0FmkL', 'Artist_name': 'Nat King Cole', 'Track_name': 'Unforgettable', 'Popularity': 69, 'Explicit': False, 'Release_year': '1954', 'Genres': ['adult standards', 'easy listening', 'lounge', 'soul', 'swing', 'vocal jazz'], 'danceability': 0.349, 'energy': 0.182, 'key': 5, 'loudness': -13.507, 'mode': 1, 'speechiness': 0.031, 'acousticness': 0.92, 'instrumentalness': 0.0152, 'liveness': 0.143, 'valence': 0.178, 'tempo': 136.094, 'type': 'audio_features', 'id': '648TTtYB0bH0P8Hfy0FmkL', 'uri': 'spotify:track:648TTtYB0bH0P8Hfy0FmkL', 'track_href': 'https://api.spotify.com/v1/tracks/648TTtYB0bH0P8Hfy0FmkL', 'analysis_url': 'https://api.spotify.com/v1/audio-analysis/648TTtYB0bH0P8Hfy0FmkL', 'duration_ms': 191973, 'time_signature': 3}\n",
            "{'Decade': '1950s', 'Track_ID': '64VP3skE86iTvdOlbzuIcO', 'Artist_name': 'Jerry Lee Lewis', 'Track_name': 'Great Balls Of Fire', 'Popularity': 69, 'Explicit': False, 'Release_year': '1961', 'Genres': ['piano rock', 'rock-and-roll', 'rockabilly'], 'danceability': 0.533, 'energy': 0.729, 'key': 7, 'loudness': -7.227, 'mode': 0, 'speechiness': 0.0714, 'acousticness': 0.563, 'instrumentalness': 0, 'liveness': 0.159, 'valence': 0.884, 'tempo': 78.67, 'type': 'audio_features', 'id': '64VP3skE86iTvdOlbzuIcO', 'uri': 'spotify:track:64VP3skE86iTvdOlbzuIcO', 'track_href': 'https://api.spotify.com/v1/tracks/64VP3skE86iTvdOlbzuIcO', 'analysis_url': 'https://api.spotify.com/v1/audio-analysis/64VP3skE86iTvdOlbzuIcO', 'duration_ms': 111536, 'time_signature': 4}\n",
            "{'Decade': '1950s', 'Track_ID': '3KzgdYUlqV6TOG7JCmx2Wg', 'Artist_name': 'Bobby Darin', 'Track_name': 'Beyond the Sea', 'Popularity': 68, 'Explicit': False, 'Release_year': '1959', 'Genres': ['adult standards', 'easy listening', 'lounge', 'rock-and-roll', 'rockabilly', 'vocal jazz'], 'danceability': 0.521, 'energy': 0.516, 'key': 2, 'loudness': -7.456, 'mode': 0, 'speechiness': 0.0369, 'acousticness': 0.723, 'instrumentalness': 0, 'liveness': 0.257, 'valence': 0.569, 'tempo': 136.483, 'type': 'audio_features', 'id': '3KzgdYUlqV6TOG7JCmx2Wg', 'uri': 'spotify:track:3KzgdYUlqV6TOG7JCmx2Wg', 'track_href': 'https://api.spotify.com/v1/tracks/3KzgdYUlqV6TOG7JCmx2Wg', 'analysis_url': 'https://api.spotify.com/v1/audio-analysis/3KzgdYUlqV6TOG7JCmx2Wg', 'duration_ms': 172480, 'time_signature': 4}\n",
            "Total tracks for 1950s: 150\n",
            "Total tracks for 1960s: 150\n",
            "Total tracks for 1970s: 150\n",
            "Total tracks for 1980s: 150\n",
            "Total tracks for 1990s: 150\n",
            "Total tracks for 2000s: 150\n",
            "Total tracks for 2010s: 150\n",
            "Total tracks for 2020s: 150\n"
          ]
        }
      ],
      "source": [
        "# Initialize an empty list to store information about all tracks\n",
        "all_tracks = []\n",
        "\n",
        "# Function to fetch all tracks from a playlist\n",
        "def fetch_all_tracks(playlist_uri):\n",
        "    # Fetch the initial set of tracks from the playlist\n",
        "    results = sp.playlist_tracks(playlist_uri)\n",
        "    tracks = results['items']\n",
        "    print(f\"Fetched {len(tracks)} tracks initially from {playlist_uri}\")\n",
        "\n",
        "    # Handle pagination to fetch all tracks if there are multiple pages\n",
        "    while results['next']:\n",
        "        time.sleep(1)  # Add a delay to avoid hitting the API rate limit\n",
        "        results = sp.next(results)  # Fetch the next page of results\n",
        "        tracks.extend(results['items'])  # Add new tracks to the list\n",
        "        print(f\"Fetched {len(tracks)} tracks so far from {playlist_uri}\")\n",
        "\n",
        "    return tracks\n",
        "\n",
        "# Fetch tracks from each playlist in the 'playlists' dictionary\n",
        "for decade, playlist_uri in playlists.items():\n",
        "    print(f\"Fetching tracks for the {decade} playlist\")\n",
        "    results = fetch_all_tracks(playlist_uri)\n",
        "\n",
        "    # Extract and store track information from the fetched results\n",
        "    for item in results:\n",
        "        track = item['track']\n",
        "        track_id = track['id']\n",
        "        track_name = track['name']\n",
        "        artist_name = track['artists'][0]['name']\n",
        "        artist_id = track['artists'][0]['id']\n",
        "        duration_ms = track['duration_ms']\n",
        "        popularity = track['popularity']\n",
        "        explicit = track['explicit']\n",
        "        release_date = track['album']['release_date']\n",
        "        release_year = release_date.split('-')[0]  # Extract year from release date\n",
        "\n",
        "        # Fetch artist information\n",
        "        artist_info = sp.artist(artist_id)\n",
        "        genres = artist_info['genres'] if artist_info['genres'] else ['Unknown']\n",
        "\n",
        "        # Create a dictionary with track information and append it to the list\n",
        "        track_info = {\n",
        "            'Decade': decade,\n",
        "            'Track_ID': track_id,\n",
        "            'Artist_name': artist_name,\n",
        "            'Track_name': track_name,\n",
        "            'Popularity': popularity,\n",
        "            'Explicit': explicit,\n",
        "            'Release_year': release_year,\n",
        "            'Genres': genres\n",
        "        }\n",
        "        all_tracks.append(track_info)\n",
        "    print(f\"Completed fetching {len(results)} tracks for the {decade} playlist\")\n",
        "\n",
        "# Function to fetch audio features for a list of track IDs\n",
        "def fetch_audio_features(track_ids):\n",
        "    features = sp.audio_features(tracks=track_ids)\n",
        "    return features\n",
        "\n",
        "# Fetch audio features in batches (Spotify API limitation on the number of requests)\n",
        "batch_size = 100\n",
        "all_features = []\n",
        "for i in range(0, len(all_tracks), batch_size):\n",
        "    print(f\"Fetching audio features for batch {i // batch_size + 1}\")\n",
        "    batch = [track['Track_ID'] for track in all_tracks[i:i + batch_size]]  # Create a list of track IDs for the current batch\n",
        "    audio_features = fetch_audio_features(batch)  # Fetch audio features for the batch\n",
        "    all_features.extend(audio_features)  # Append the fetched features to the list\n",
        "    time.sleep(1)  # Add a delay to avoid hitting the API rate limit\n",
        "\n",
        "# Combine track information with corresponding audio features\n",
        "for track, features in zip(all_tracks, all_features):\n",
        "    if features is not None:\n",
        "        track.update(features)  # Update the track dictionary with audio features\n",
        "\n",
        "# Print the total number of tracks fetched\n",
        "print(f\"Total tracks fetched: {len(all_tracks)}\")\n",
        "\n",
        "# Print the first few tracks to verify the fetched data\n",
        "for track in all_tracks[:10]:\n",
        "    print(track)\n",
        "\n",
        "# Calculate and print the number of tracks found per decade\n",
        "tracks_per_decade = {}\n",
        "for track in all_tracks:\n",
        "    decade = track['Decade']\n",
        "    if decade in tracks_per_decade:\n",
        "        tracks_per_decade[decade] += 1\n",
        "    else:\n",
        "        tracks_per_decade[decade] = 1\n",
        "\n",
        "for decade, count in tracks_per_decade.items():\n",
        "    print(f\"Total tracks for {decade}: {count}\")"
      ]
    },
    {
      "cell_type": "markdown",
      "metadata": {
        "id": "hW1daM9uKdBp"
      },
      "source": [
        "## Save as JSON and CSV"
      ]
    },
    {
      "cell_type": "code",
      "execution_count": null,
      "metadata": {
        "id": "EkD_WjI7R1rK"
      },
      "outputs": [],
      "source": [
        "# Save the list of track information to a JSON file\n",
        "with open('tracks.json', 'w') as f:\n",
        "    # Use json.dump() to write the 'all_tracks' list to the file in JSON format\n",
        "    # 'w' mode ensures that the file is opened for writing, and will be created if it doesn't exist\n",
        "    json.dump(all_tracks, f)"
      ]
    }
  ],
  "metadata": {
    "colab": {
      "provenance": [],
      "include_colab_link": true
    },
    "kernelspec": {
      "display_name": "Python 3",
      "name": "python3"
    },
    "language_info": {
      "name": "python"
    }
  },
  "nbformat": 4,
  "nbformat_minor": 0
}
